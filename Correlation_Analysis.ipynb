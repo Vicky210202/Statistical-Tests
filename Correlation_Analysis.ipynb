{
 "cells": [
  {
   "cell_type": "markdown",
   "metadata": {},
   "source": [
    "# CORRELATION ANALYSIS\n",
    "### Correlation analysis provides a way to measure the strength and direction of the **linear relationship** between variables."
   ]
  },
  {
   "cell_type": "markdown",
   "metadata": {},
   "source": [
    "### Methods for performing correlation analysis"
   ]
  },
  {
   "cell_type": "code",
   "execution_count": 1,
   "metadata": {
    "vscode": {
     "languageId": "r"
    }
   },
   "outputs": [],
   "source": [
    "# Loading in-built attitude dataset \n",
    "data(attitude)"
   ]
  },
  {
   "cell_type": "code",
   "execution_count": 2,
   "metadata": {
    "vscode": {
     "languageId": "r"
    }
   },
   "outputs": [
    {
     "name": "stdout",
     "output_type": "stream",
     "text": [
      "  rating complaints privileges learning raises critical advance\n",
      "1     43         51         30       39     61       92      45\n",
      "2     63         64         51       54     63       73      47\n",
      "3     71         70         68       69     76       86      48\n",
      "4     61         63         45       47     54       84      35\n",
      "5     81         78         56       66     71       83      47\n",
      "6     43         55         49       44     54       49      34\n"
     ]
    }
   ],
   "source": [
    "# data\n",
    "print(head(attitude))"
   ]
  },
  {
   "cell_type": "markdown",
   "metadata": {},
   "source": [
    "#### Pearson Correlation:\n",
    "\n",
    "- **Suitable for:** Continuous variables with a linear relationship.\n",
    "- **Assumption:** Assumes that the relationship between variables is linear and that the data follows a normal distribution.\n",
    "- **Calculation:** Calculates the linear correlation coefficient between two continuous variables. It measures how well the data points fit on a straight line."
   ]
  },
  {
   "cell_type": "code",
   "execution_count": 3,
   "metadata": {
    "vscode": {
     "languageId": "r"
    }
   },
   "outputs": [
    {
     "data": {
      "text/html": [
       "0.825417569542146"
      ],
      "text/latex": [
       "0.825417569542146"
      ],
      "text/markdown": [
       "0.825417569542146"
      ],
      "text/plain": [
       "[1] 0.8254176"
      ]
     },
     "metadata": {},
     "output_type": "display_data"
    }
   ],
   "source": [
    "# Finding correlation between any two variables\n",
    "cor(attitude[,\"rating\"],attitude[,\"complaints\"])"
   ]
  },
  {
   "cell_type": "markdown",
   "metadata": {},
   "source": [
    "#### Spearman's Rank Correlation:\n",
    "\n",
    "- **Suitable for:** Ordinal or continuous variables with a monotonic relationship (not necessarily linear).\n",
    "- **Assumption:** Does not assume a specific distribution of data. It measures the strength and direction of the monotonic relationship between variables.\n",
    "- **Calculation:** Calculates the correlation between the ranks of data points. It's useful when the relationship is not strictly linear but still shows a consistent trend."
   ]
  },
  {
   "cell_type": "code",
   "execution_count": 4,
   "metadata": {
    "vscode": {
     "languageId": "r"
    }
   },
   "outputs": [
    {
     "data": {
      "text/html": [
       "0.832200562268763"
      ],
      "text/latex": [
       "0.832200562268763"
      ],
      "text/markdown": [
       "0.832200562268763"
      ],
      "text/plain": [
       "[1] 0.8322006"
      ]
     },
     "metadata": {},
     "output_type": "display_data"
    }
   ],
   "source": [
    "cor(attitude[,\"rating\"],attitude[,\"complaints\"],method = \"spearman\")"
   ]
  },
  {
   "cell_type": "markdown",
   "metadata": {},
   "source": [
    "#### Kendall's Tau Correlation:\n",
    "\n",
    "- **Suitable for:** Ordinal or continuous variables with a monotonic relationship.\n",
    "- **Assumption:** Similar to Spearman's method, it doesn't assume a specific distribution. It measures the strength and direction of a monotonic relationship.\n",
    "- **Calculation:** Calculates the correlation based on concordant and discordant pairs of data points. It's often used when dealing with non-linear relationships or data with tied ranks."
   ]
  },
  {
   "cell_type": "code",
   "execution_count": 5,
   "metadata": {
    "vscode": {
     "languageId": "r"
    }
   },
   "outputs": [
    {
     "data": {
      "text/html": [
       "0.654971208215473"
      ],
      "text/latex": [
       "0.654971208215473"
      ],
      "text/markdown": [
       "0.654971208215473"
      ],
      "text/plain": [
       "[1] 0.6549712"
      ]
     },
     "metadata": {},
     "output_type": "display_data"
    }
   ],
   "source": [
    "cor(attitude[,\"rating\"],attitude[,\"complaints\"],method = \"kendall\")"
   ]
  },
  {
   "cell_type": "markdown",
   "metadata": {},
   "source": [
    "#### For comparing multiple variables"
   ]
  },
  {
   "cell_type": "code",
   "execution_count": 6,
   "metadata": {
    "vscode": {
     "languageId": "r"
    }
   },
   "outputs": [
    {
     "name": "stdout",
     "output_type": "stream",
     "text": [
      "           rating complaints privileges learning raises critical advance\n",
      "rating       1.00       0.83       0.43     0.62   0.59     0.16    0.16\n",
      "complaints   0.83       1.00       0.56     0.60   0.67     0.19    0.22\n",
      "privileges   0.43       0.56       1.00     0.49   0.45     0.15    0.34\n",
      "learning     0.62       0.60       0.49     1.00   0.64     0.12    0.53\n",
      "raises       0.59       0.67       0.45     0.64   1.00     0.38    0.57\n",
      "critical     0.16       0.19       0.15     0.12   0.38     1.00    0.28\n",
      "advance      0.16       0.22       0.34     0.53   0.57     0.28    1.00\n"
     ]
    }
   ],
   "source": [
    "# correlation matrix\n",
    "corr_matrix = round(cor(attitude),digits = 2)\n",
    "print(corr_matrix)"
   ]
  },
  {
   "cell_type": "markdown",
   "metadata": {},
   "source": [
    "#### Visualization with scatterplot (For linear relationship)"
   ]
  },
  {
   "cell_type": "code",
   "execution_count": 7,
   "metadata": {
    "vscode": {
     "languageId": "r"
    }
   },
   "outputs": [
    {
     "data": {
      "image/png": "[encoded data removed]",
      "text/plain": [
       "plot without title"
      ]
     },
     "metadata": {
      "image/png": {
       "height": 420,
       "width": 420
      }
     },
     "output_type": "display_data"
    }
   ],
   "source": [
    "# For two variables\n",
    "plot(attitude[,\"rating\"],attitude[,\"complaints\"],col = \"blue\")"
   ]
  },
  {
   "cell_type": "code",
   "execution_count": 8,
   "metadata": {
    "vscode": {
     "languageId": "r"
    }
   },
   "outputs": [
    {
     "data": {
      "image/png": "[encoded data removed]",
      "text/plain": [
       "plot without title"
      ]
     },
     "metadata": {
      "image/png": {
       "height": 420,
       "width": 420
      }
     },
     "output_type": "display_data"
    }
   ],
   "source": [
    "# For multiple variables at a time\n",
    "pairs(attitude[,c(\"rating\",\"complaints\",\"learning\",\"raises\")],col = \"blue\")"
   ]
  },
  {
   "cell_type": "markdown",
   "metadata": {},
   "source": [
    "## Correlation matrix "
   ]
  },
  {
   "cell_type": "code",
   "execution_count": 9,
   "metadata": {
    "vscode": {
     "languageId": "r"
    }
   },
   "outputs": [
    {
     "name": "stderr",
     "output_type": "stream",
     "text": [
      "corrplot 0.92 loaded\n",
      "\n"
     ]
    },
    {
     "data": {
      "image/png": "[encoded data removed]",
      "text/plain": [
       "Plot with title \"\""
      ]
     },
     "metadata": {
      "image/png": {
       "height": 420,
       "width": 420
      }
     },
     "output_type": "display_data"
    }
   ],
   "source": [
    "library(corrplot)\n",
    "\n",
    "corrplot(cor(attitude),method = \"number\",type = \"upper\" )"
   ]
  },
  {
   "cell_type": "markdown",
   "metadata": {},
   "source": [
    "### Correlation coefficient and its intepretation\n",
    "\n",
    "Interpreting the correlation coefficient involves understanding the strength and direction of the relationship between two variables. \n",
    "\n",
    "1. **Perfect Positive Correlation (r = +1)**:\n",
    "   - When the correlation coefficient is +1, it indicates a perfect positive linear relationship between the variables.\n",
    "   - As one variable increases, the other variable also increases proportionally.\n",
    "   - All data points fall exactly on a straight line.\n",
    "\n",
    "2. **High Positive Correlation (0.7 ≤ r < 1)**:\n",
    "   - A correlation coefficient in this range indicates a strong positive linear relationship between the variables.\n",
    "   - As one variable increases, the other variable tends to increase as well, but not necessarily exactly proportionally.\n",
    "\n",
    "3. **Moderate Positive Correlation (0.3 ≤ r < 0.7)**:\n",
    "   - A correlation coefficient in this range suggests a moderate positive linear relationship.\n",
    "   - There is a tendency for the variables to move in the same direction, but the relationship might not be very strong.\n",
    "\n",
    "4. **No Correlation (r ≈ 0)**:\n",
    "   - When the correlation coefficient is close to 0, it suggests that there is little to no linear relationship between the variables.\n",
    "   - Changes in one variable are not associated with consistent changes in the other variable.\n",
    "\n",
    "5. **Moderate Negative Correlation (-0.3 ≥ r > -0.7)**:\n",
    "   - A correlation coefficient in this range indicates a moderate negative linear relationship.\n",
    "   - As one variable increases, the other variable tends to decrease, but not necessarily exactly proportionally.\n",
    "\n",
    "6. **High Negative Correlation (-0.7 ≥ r > -1)**:\n",
    "   - A correlation coefficient in this range suggests a strong negative linear relationship between the variables.\n",
    "   - As one variable increases, the other variable tends to decrease, and vice versa.\n",
    "\n",
    "7. **Perfect Negative Correlation (r = -1)**:\n",
    "   - When the correlation coefficient is -1, it indicates a perfect negative linear relationship between the variables.\n",
    "   - As one variable increases, the other variable decreases exactly proportionally.\n",
    "   - All data points fall exactly on a straight line, but with a negative slope.\n",
    "\n",
    "**Note :** correlation does not imply causation \n",
    "- A strong correlation between two variables does not necessarily mean that changes in one variable cause changes in the other. Additionally, correlation is a measure of linear association, so it might not capture non-linear relationships."
   ]
  },
  {
   "cell_type": "markdown",
   "metadata": {},
   "source": [
    "### **Testing of Hypothesis for Correlation between two variables**\n",
    "**Null Hypothesis (H0):**\n",
    "The null hypothesis in a correlation test states that there is no linear correlation between the two variables in the population. In other words, the true correlation coefficient in the population is zero.\n",
    "\n",
    "**Alternative Hypothesis (H1):**\n",
    "The alternative hypothesis suggests that there is a linear correlation between the two variables in the population. It could be either positive or negative correlation, but it's not zero.\n",
    "\n",
    "The test assesses whether the observed sample correlation is significantly different from zero. If the p-value (probability value) associated with the test is very small (usually below a significance level like 0.05), you might reject the null hypothesis in favor of the alternative hypothesis, indicating a statistically significant correlation.\n",
    "\n",
    "**Assumptions:**\n",
    "\n",
    "- Independence: The observations are independent of each other.\n",
    "- Linearity: The relationship between the variables is linear.\n",
    "- Normality: The variables should be approximately normally distributed.\n",
    "- Homoscedasticity: The variances of the two variables are roughly equal for different values of the other variable."
   ]
  },
  {
   "cell_type": "code",
   "execution_count": 10,
   "metadata": {
    "vscode": {
     "languageId": "r"
    }
   },
   "outputs": [
    {
     "name": "stdout",
     "output_type": "stream",
     "text": [
      "Null Hypothesis : The true correlation coefficient in the population is zero.\n",
      "Alternative Hypothesis : The true correlation coefficient could be either positive or negative correlation, but it's not zero."
     ]
    },
    {
     "data": {
      "text/plain": [
       "\n",
       "\tPearson's product-moment correlation\n",
       "\n",
       "data:  attitude[, \"rating\"] and attitude[, \"complaints\"]\n",
       "t = 7.737, df = 28, p-value = 1.988e-08\n",
       "alternative hypothesis: true correlation is not equal to 0\n",
       "95 percent confidence interval:\n",
       " 0.6620128 0.9139139\n",
       "sample estimates:\n",
       "      cor \n",
       "0.8254176 \n"
      ]
     },
     "metadata": {},
     "output_type": "display_data"
    },
    {
     "name": "stdout",
     "output_type": "stream",
     "text": [
      "[1] \"Null hypothesis rejected : (i.e) There is either positive or negative corretion.\"\n"
     ]
    }
   ],
   "source": [
    "## For Two variables \n",
    "cat(\"Null Hypothesis : The true correlation coefficient in the population is zero.\\n\")\n",
    "cat(\"Alternative Hypothesis : The true correlation coefficient could be either positive or negative correlation, but it's not zero.\")\n",
    "test <- cor.test(attitude[,\"rating\"], attitude[,\"complaints\"])\n",
    "test\n",
    "if(test$p.value <- 0.05){\n",
    "    print(\"Null hypothesis rejected : (i.e) There is either positive or negative corretion.\")\n",
    "}else{\n",
    "    print(\"Could not reject th null hypothesis : (i.e) No correlation\")\n",
    "\n",
    "}\n"
   ]
  },
  {
   "cell_type": "code",
   "execution_count": 11,
   "metadata": {
    "vscode": {
     "languageId": "r"
    }
   },
   "outputs": [
    {
     "name": "stderr",
     "output_type": "stream",
     "text": [
      "\n",
      "Attaching package: 'Hmisc'\n",
      "\n",
      "\n",
      "The following objects are masked from 'package:base':\n",
      "\n",
      "    format.pval, units\n",
      "\n",
      "\n"
     ]
    }
   ],
   "source": [
    "# For several variables at a time\n",
    "library(Hmisc)\n",
    "test <- rcorr(as.matrix(attitude))"
   ]
  },
  {
   "cell_type": "code",
   "execution_count": 12,
   "metadata": {
    "vscode": {
     "languageId": "r"
    }
   },
   "outputs": [
    {
     "data": {
      "text/html": [
       "<table class=\"dataframe\">\n",
       "<caption>A matrix: 7 × 7 of type dbl</caption>\n",
       "<thead>\n",
       "\t<tr><th></th><th scope=col>rating</th><th scope=col>complaints</th><th scope=col>privileges</th><th scope=col>learning</th><th scope=col>raises</th><th scope=col>critical</th><th scope=col>advance</th></tr>\n",
       "</thead>\n",
       "<tbody>\n",
       "\t<tr><th scope=row>rating</th><td>    NA</td><td>0.0000</td><td>0.0189</td><td>0.0002</td><td>0.0006</td><td>0.4091</td><td>0.4132</td></tr>\n",
       "\t<tr><th scope=row>complaints</th><td>0.0000</td><td>    NA</td><td>0.0013</td><td>0.0005</td><td>0.0001</td><td>0.3205</td><td>0.2328</td></tr>\n",
       "\t<tr><th scope=row>privileges</th><td>0.0189</td><td>0.0013</td><td>    NA</td><td>0.0056</td><td>0.0136</td><td>0.4375</td><td>0.0633</td></tr>\n",
       "\t<tr><th scope=row>learning</th><td>0.0002</td><td>0.0005</td><td>0.0056</td><td>    NA</td><td>0.0001</td><td>0.5417</td><td>0.0025</td></tr>\n",
       "\t<tr><th scope=row>raises</th><td>0.0006</td><td>0.0001</td><td>0.0136</td><td>0.0001</td><td>    NA</td><td>0.0401</td><td>0.0009</td></tr>\n",
       "\t<tr><th scope=row>critical</th><td>0.4091</td><td>0.3205</td><td>0.4375</td><td>0.5417</td><td>0.0401</td><td>    NA</td><td>0.1292</td></tr>\n",
       "\t<tr><th scope=row>advance</th><td>0.4132</td><td>0.2328</td><td>0.0633</td><td>0.0025</td><td>0.0009</td><td>0.1292</td><td>    NA</td></tr>\n",
       "</tbody>\n",
       "</table>\n"
      ],
      "text/latex": [
       "A matrix: 7 × 7 of type dbl\n",
       "\\begin{tabular}{r|lllllll}\n",
       "  & rating & complaints & privileges & learning & raises & critical & advance\\\\\n",
       "\\hline\n",
       "\trating &     NA & 0.0000 & 0.0189 & 0.0002 & 0.0006 & 0.4091 & 0.4132\\\\\n",
       "\tcomplaints & 0.0000 &     NA & 0.0013 & 0.0005 & 0.0001 & 0.3205 & 0.2328\\\\\n",
       "\tprivileges & 0.0189 & 0.0013 &     NA & 0.0056 & 0.0136 & 0.4375 & 0.0633\\\\\n",
       "\tlearning & 0.0002 & 0.0005 & 0.0056 &     NA & 0.0001 & 0.5417 & 0.0025\\\\\n",
       "\traises & 0.0006 & 0.0001 & 0.0136 & 0.0001 &     NA & 0.0401 & 0.0009\\\\\n",
       "\tcritical & 0.4091 & 0.3205 & 0.4375 & 0.5417 & 0.0401 &     NA & 0.1292\\\\\n",
       "\tadvance & 0.4132 & 0.2328 & 0.0633 & 0.0025 & 0.0009 & 0.1292 &     NA\\\\\n",
       "\\end{tabular}\n"
      ],
      "text/markdown": [
       "\n",
       "A matrix: 7 × 7 of type dbl\n",
       "\n",
       "| <!--/--> | rating | complaints | privileges | learning | raises | critical | advance |\n",
       "|---|---|---|---|---|---|---|---|\n",
       "| rating |     NA | 0.0000 | 0.0189 | 0.0002 | 0.0006 | 0.4091 | 0.4132 |\n",
       "| complaints | 0.0000 |     NA | 0.0013 | 0.0005 | 0.0001 | 0.3205 | 0.2328 |\n",
       "| privileges | 0.0189 | 0.0013 |     NA | 0.0056 | 0.0136 | 0.4375 | 0.0633 |\n",
       "| learning | 0.0002 | 0.0005 | 0.0056 |     NA | 0.0001 | 0.5417 | 0.0025 |\n",
       "| raises | 0.0006 | 0.0001 | 0.0136 | 0.0001 |     NA | 0.0401 | 0.0009 |\n",
       "| critical | 0.4091 | 0.3205 | 0.4375 | 0.5417 | 0.0401 |     NA | 0.1292 |\n",
       "| advance | 0.4132 | 0.2328 | 0.0633 | 0.0025 | 0.0009 | 0.1292 |     NA |\n",
       "\n"
      ],
      "text/plain": [
       "           rating complaints privileges learning raises critical advance\n",
       "rating         NA 0.0000     0.0189     0.0002   0.0006 0.4091   0.4132 \n",
       "complaints 0.0000     NA     0.0013     0.0005   0.0001 0.3205   0.2328 \n",
       "privileges 0.0189 0.0013         NA     0.0056   0.0136 0.4375   0.0633 \n",
       "learning   0.0002 0.0005     0.0056         NA   0.0001 0.5417   0.0025 \n",
       "raises     0.0006 0.0001     0.0136     0.0001       NA 0.0401   0.0009 \n",
       "critical   0.4091 0.3205     0.4375     0.5417   0.0401     NA   0.1292 \n",
       "advance    0.4132 0.2328     0.0633     0.0025   0.0009 0.1292       NA "
      ]
     },
     "metadata": {},
     "output_type": "display_data"
    }
   ],
   "source": [
    "round(test$P,4)"
   ]
  }
 ],
 "metadata": {
  "kernelspec": {
   "display_name": "R",
   "language": "R",
   "name": "ir"
  },
  "language_info": {
   "codemirror_mode": "r",
   "file_extension": ".r",
   "mimetype": "text/x-r-source",
   "name": "R",
   "pygments_lexer": "r",
   "version": "4.3.1"
  },
  "orig_nbformat": 4
 },
 "nbformat": 4,
 "nbformat_minor": 2
}
