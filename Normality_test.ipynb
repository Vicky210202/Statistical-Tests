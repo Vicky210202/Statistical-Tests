{
 "cells": [
  {
   "cell_type": "markdown",
   "metadata": {},
   "source": [
    "# TESTS FOR NORMALITY "
   ]
  },
  {
   "cell_type": "markdown",
   "metadata": {},
   "source": [
    "#### Here I took two random data(s) from normal and non-normal distributions for visualizing the difference respectively"
   ]
  },
  {
   "cell_type": "markdown",
   "metadata": {},
   "source": [
    "### METHOD 1 : CREATING HISTOGRAMS "
   ]
  },
  {
   "cell_type": "code",
   "execution_count": 128,
   "metadata": {
    "vscode": {
     "languageId": "r"
    }
   },
   "outputs": [],
   "source": [
    "set.seed(123)\n",
    "# Normal data\n",
    "data1 <- rnorm(1000)\n",
    "# Non-normal data\n",
    "data2 <- rexp(1000)\n"
   ]
  },
  {
   "cell_type": "code",
   "execution_count": 129,
   "metadata": {
    "vscode": {
     "languageId": "r"
    }
   },
   "outputs": [
    {
     "data": {
      "image/png": "[encoded data removed]",
      "text/plain": [
       "Plot with title \"Non-normal data\""
      ]
     },
     "metadata": {
      "image/png": {
       "height": 420,
       "width": 420
      }
     },
     "output_type": "display_data"
    }
   ],
   "source": [
    "# creating histogram\n",
    "par(mfrow = c(1,2)) \n",
    "# Normal data\n",
    "hist(data1,main = \"Normal data\",col = \"skyblue\")\n",
    "# Non-normal data\n",
    "hist(data2,main = \"Non-normal data\",col = \"royalblue\")"
   ]
  },
  {
   "cell_type": "markdown",
   "metadata": {},
   "source": [
    "### METHOD 2 : CREATING Q - Q PLOTS"
   ]
  },
  {
   "cell_type": "code",
   "execution_count": 130,
   "metadata": {
    "vscode": {
     "languageId": "r"
    }
   },
   "outputs": [
    {
     "data": {
      "image/png": "[encoded data removed]",
      "text/plain": [
       "Plot with title \"Non-normal Data\""
      ]
     },
     "metadata": {
      "image/png": {
       "height": 420,
       "width": 420
      }
     },
     "output_type": "display_data"
    }
   ],
   "source": [
    "# Q - Q plots\n",
    "par(mfrow = c(1,2))\n",
    "# Normal data\n",
    "qqnorm(data1,main = \"Normal Data\",col = \"slateblue\")\n",
    "qqline(data1,col = \"red\")\n",
    "\n",
    "# Non-normal data\n",
    "qqnorm(data2,main = \"Non-normal Data\",col = \"slateblue\")\n",
    "qqline(data2,col =\"red\")"
   ]
  },
  {
   "cell_type": "markdown",
   "metadata": {},
   "source": [
    "### METHOD 3 - SHAPIRO WILK TEST"
   ]
  },
  {
   "cell_type": "markdown",
   "metadata": {},
   "source": [
    "#### The Shapiro-Wilk test is a hypothesis test that is applied to a sample with a null hypothesis that the sample has been generated from a normal distribution. If the p-value is low, we can reject such a null hypothesis and say that the sample has not been generated from a normal distribution."
   ]
  },
  {
   "cell_type": "code",
   "execution_count": 131,
   "metadata": {
    "vscode": {
     "languageId": "r"
    }
   },
   "outputs": [
    {
     "name": "stdout",
     "output_type": "stream",
     "text": [
      "Null Hypothesis: The data follows a normal distribution.\n",
      "Alternative Hypothesis: The data does not follow a normal distribution.\n",
      "\n"
     ]
    },
    {
     "data": {
      "text/plain": [
       "\n",
       "\tShapiro-Wilk normality test\n",
       "\n",
       "data:  data1\n",
       "W = 0.99838, p-value = 0.4765\n"
      ]
     },
     "metadata": {},
     "output_type": "display_data"
    },
    {
     "name": "stdout",
     "output_type": "stream",
     "text": [
      "[1] \"Could not reject the null hypothesis : (i.e) the data is normally distributed\"\n"
     ]
    }
   ],
   "source": [
    "cat(\"Null Hypothesis: The data follows a normal distribution.\\n\")\n",
    "cat(\"Alternative Hypothesis: The data does not follow a normal distribution.\\n\\n\")\n",
    "\n",
    "test <- shapiro.test(data1)\n",
    "test\n",
    "p_value <- test$p.value\n",
    "if(p_value <= 0.05){\n",
    "    print(\"Reject the null hypothesis : (i.e) the data is not normally distributed\")\n",
    "} else{\n",
    "    print(\"Could not reject the null hypothesis : (i.e) the data is normally distributed\")\n",
    "}    \n"
   ]
  },
  {
   "cell_type": "code",
   "execution_count": 132,
   "metadata": {
    "vscode": {
     "languageId": "r"
    }
   },
   "outputs": [
    {
     "name": "stdout",
     "output_type": "stream",
     "text": [
      "Null Hypothesis: The data follows a normal distribution.\n",
      "Alternative Hypothesis: The data does not follow a normal distribution.\n",
      "\n"
     ]
    },
    {
     "data": {
      "text/plain": [
       "\n",
       "\tShapiro-Wilk normality test\n",
       "\n",
       "data:  data2\n",
       "W = 0.82794, p-value < 2.2e-16\n"
      ]
     },
     "metadata": {},
     "output_type": "display_data"
    },
    {
     "name": "stdout",
     "output_type": "stream",
     "text": [
      "[1] \"Reject the null hypothesis : (i.e) the data is not normally distributed\"\n"
     ]
    }
   ],
   "source": [
    "cat(\"Null Hypothesis: The data follows a normal distribution.\\n\")\n",
    "cat(\"Alternative Hypothesis: The data does not follow a normal distribution.\\n\\n\")\n",
    "\n",
    "test <- shapiro.test(data2)\n",
    "test\n",
    "p_value <- test$p.value\n",
    "if(p_value <= 0.05){\n",
    "    print(\"Reject the null hypothesis : (i.e) the data is not normally distributed\")\n",
    "} else{\n",
    "    print(\"Could not reject the null hypothesis : (i.e) the data is normally distributed\")\n",
    "}    "
   ]
  },
  {
   "cell_type": "markdown",
   "metadata": {},
   "source": [
    "### KOLMOGOROV-SMIRNOV TEST"
   ]
  },
  {
   "cell_type": "markdown",
   "metadata": {},
   "source": [
    "#### The Kolmogorov-Sminov test is also a hypothesis test that is applied to a sample with a null hypothesis that the sample has been generated from a specified distribution(our case normal). If the p-value is low, we can reject such a null hypothesis and say that the sample has not been generated from a normal distribution."
   ]
  },
  {
   "cell_type": "code",
   "execution_count": 133,
   "metadata": {
    "vscode": {
     "languageId": "r"
    }
   },
   "outputs": [
    {
     "name": "stdout",
     "output_type": "stream",
     "text": [
      "Null Hypothesis: The data follows a normal distribution.\n",
      "Alternative Hypothesis: The data does not follow a normal distribution.\n",
      "\n"
     ]
    },
    {
     "data": {
      "text/plain": [
       "\n",
       "\tAsymptotic one-sample Kolmogorov-Smirnov test\n",
       "\n",
       "data:  data1\n",
       "D = 0.019416, p-value = 0.8452\n",
       "alternative hypothesis: two-sided\n"
      ]
     },
     "metadata": {},
     "output_type": "display_data"
    },
    {
     "name": "stdout",
     "output_type": "stream",
     "text": [
      "[1] \"Could not reject the null hypothesis : (i.e) the data is normally distributed\"\n"
     ]
    }
   ],
   "source": [
    "cat(\"Null Hypothesis: The data follows a normal distribution.\\n\")\n",
    "cat(\"Alternative Hypothesis: The data does not follow a normal distribution.\\n\\n\")\n",
    "\n",
    "test <- ks.test(data1,\"pnorm\")\n",
    "test\n",
    "p_value <- test$p.value\n",
    "if(p_value <= 0.05){\n",
    "    print(\"Reject the null hypothesis : (i.e) the data is not normally distributed\")\n",
    "} else{\n",
    "    print(\"Could not reject the null hypothesis : (i.e) the data is normally distributed\")\n",
    "}    "
   ]
  },
  {
   "cell_type": "code",
   "execution_count": 134,
   "metadata": {
    "vscode": {
     "languageId": "r"
    }
   },
   "outputs": [
    {
     "name": "stdout",
     "output_type": "stream",
     "text": [
      "Null Hypothesis: The data follows a normal distribution.\n",
      "Alternative Hypothesis: The data does not follow a normal distribution.\n",
      "\n"
     ]
    },
    {
     "data": {
      "text/plain": [
       "\n",
       "\tAsymptotic one-sample Kolmogorov-Smirnov test\n",
       "\n",
       "data:  data2\n",
       "D = 0.50024, p-value < 2.2e-16\n",
       "alternative hypothesis: two-sided\n"
      ]
     },
     "metadata": {},
     "output_type": "display_data"
    },
    {
     "name": "stdout",
     "output_type": "stream",
     "text": [
      "[1] \"Reject the null hypothesis : (i.e) the data is not normally distributed\"\n"
     ]
    }
   ],
   "source": [
    "cat(\"Null Hypothesis: The data follows a normal distribution.\\n\")\n",
    "cat(\"Alternative Hypothesis: The data does not follow a normal distribution.\\n\\n\")\n",
    "\n",
    "test <- ks.test(data2,\"pnorm\")\n",
    "test\n",
    "p_value <- test$p.value\n",
    "if(p_value <= 0.05){\n",
    "    print(\"Reject the null hypothesis : (i.e) the data is not normally distributed\")\n",
    "} else{\n",
    "    print(\"Could not reject the null hypothesis : (i.e) the data is normally distributed\")\n",
    "}    "
   ]
  },
  {
   "cell_type": "markdown",
   "metadata": {},
   "source": [
    "## Conclusion"
   ]
  },
  {
   "cell_type": "markdown",
   "metadata": {},
   "source": [
    "#### **Visualization with Histograms and Q - Q plots**\n",
    "**Histograms**\n",
    "- From histogram we can see the distibutions of data points. from that we picture out whether it is normal or not.\n",
    "\n",
    "**Q - Q plots**\n",
    "- From Q - Q plots , if atmost all the data points lies along the line (approximately), then it follows normal distribution\n",
    "- Else, it doesn't follow the normal distribution \n",
    "\n",
    "#### **Shapiro-Wilk Test:**\n",
    "\n",
    "**Limitations:**\n",
    "- The Shapiro-Wilk test might not be reliable for very small sample sizes (typically less than 3-5) because the test statistic might be unstable in such cases.\n",
    "- The test can be sensitive to departures from normality in the tails of the distribution, which might lead to rejecting the null hypothesis even if the distribution is approximately normal in the central region.\n",
    "\n",
    "**Compatibility with Sample Size:**\n",
    "- The Shapiro-Wilk test is generally suitable for small to moderately sized datasets (up to a few hundred observations).\n",
    "- It's often recommended for samples with sizes between 15 and 50 for reliable results.\n",
    "- As the sample size increases, the test becomes more sensitive and is likely to detect even minor deviations from normality.\n",
    "\n",
    "#### **Kolmogorov-Smirnov Test:**\n",
    "\n",
    "**Limitations:**\n",
    "- The Kolmogorov-Smirnov test is more suitable for larger sample sizes because it relies on the cumulative distribution function (CDF), which needs a relatively large sample to be accurately estimated.\n",
    "- For small sample sizes, the test might not be as reliable because the test statistic's distribution may not match the theoretical Kolmogorov distribution.\n",
    "\n",
    "**Compatibility with Sample Size:**\n",
    "- The Kolmogorov-Smirnov test is generally suitable for larger datasets.\n",
    "- It becomes more reliable as the sample size increases.\n",
    "- For smaller sample sizes, other tests like the Shapiro-Wilk test might be more appropriate due to their better performance in detecting deviations from normality.\n",
    "\n",
    "**Choosing the Right Test:**\n",
    "\n",
    "- For small sample sizes (less than 50), the Shapiro-Wilk test is often preferred due to its stability and accuracy in detecting non-normality.\n",
    "- For larger sample sizes, both tests can be used, but the Kolmogorov-Smirnov test might be more appropriate due to its suitability for larger datasets.\n"
   ]
  }
 ],
 "metadata": {
  "kernelspec": {
   "display_name": "R",
   "language": "R",
   "name": "ir"
  },
  "language_info": {
   "codemirror_mode": "r",
   "file_extension": ".r",
   "mimetype": "text/x-r-source",
   "name": "R",
   "pygments_lexer": "r",
   "version": "4.3.1"
  },
  "orig_nbformat": 4
 },
 "nbformat": 4,
 "nbformat_minor": 2
}
